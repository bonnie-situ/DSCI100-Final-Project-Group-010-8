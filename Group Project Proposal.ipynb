{
 "cells": [
  {
   "cell_type": "markdown",
   "id": "f65b6bd3-0f0e-4c5c-958d-1d01c925ffd3",
   "metadata": {},
   "source": [
    "Group Project Proposal"
   ]
  },
  {
   "cell_type": "markdown",
   "id": "d25f1928-f8e5-4991-982d-e41a46d8ecdb",
   "metadata": {},
   "source": [
    "Introduction:\n",
    "\n",
    "The Data Science Salaries dataset, last updated on February 27th of this year, includes metrics on jobs in the Data Science industry from 2020 to 2022. We will use it to find the relationship between salaries, demographics, education, and experience levels,  for data science jobs. Data for this set was collected through industry surveys, job surveys, recruitment agencies, and company reports. For this project, we will answer the predictive question, “Can we predict the ideal location (employee residence) to work a data science job based on the highest yearly salary in USD, experience level, and job title?” using classification. We want to answer this question to give workers insight about which location is most ideal to work a certain job in terms of salary. \n"
   ]
  },
  {
   "cell_type": "markdown",
   "id": "07effc25-142a-42c4-86ea-4133ad9ea9cc",
   "metadata": {},
   "source": [
    "Preliminary Data Analysis:"
   ]
  },
  {
   "cell_type": "code",
   "execution_count": 35,
   "id": "900e9d9b-3657-47b2-bd6d-e362bec35d03",
   "metadata": {},
   "outputs": [],
   "source": [
    "library(tidyverse)\n",
    "library(repr)\n",
    "library(tidymodels)\n",
    "options(repr.matrix.max.rows = 6)"
   ]
  },
  {
   "cell_type": "code",
   "execution_count": 24,
   "id": "6000c26a-59e7-4857-9194-c94a59615073",
   "metadata": {},
   "outputs": [
    {
     "name": "stderr",
     "output_type": "stream",
     "text": [
      "\u001b[1mRows: \u001b[22m\u001b[34m607\u001b[39m \u001b[1mColumns: \u001b[22m\u001b[34m12\u001b[39m\n",
      "\u001b[36m──\u001b[39m \u001b[1mColumn specification\u001b[22m \u001b[36m────────────────────────────────────────────────────────\u001b[39m\n",
      "\u001b[1mDelimiter:\u001b[22m \",\"\n",
      "\u001b[31mchr\u001b[39m (7): experience_level, employment_type, job_title, salary_currency, empl...\n",
      "\u001b[32mdbl\u001b[39m (5): id, work_year, salary, salary_in_usd, remote_ratio\n",
      "\n",
      "\u001b[36mℹ\u001b[39m Use `spec()` to retrieve the full column specification for this data.\n",
      "\u001b[36mℹ\u001b[39m Specify the column types or set `show_col_types = FALSE` to quiet this message.\n"
     ]
    }
   ],
   "source": [
    "ds_salaries <- read_csv(\"data/ds_salaries.csv\") |>\n",
    "    mutate(employee_residence = as_factor(employee_residence))"
   ]
  },
  {
   "cell_type": "code",
   "execution_count": 25,
   "id": "f02585c4-b682-4385-b491-9b8360c1aa9d",
   "metadata": {},
   "outputs": [
    {
     "data": {
      "text/html": [
       "<table class=\"dataframe\">\n",
       "<caption>A tibble: 6 × 12</caption>\n",
       "<thead>\n",
       "\t<tr><th scope=col>id</th><th scope=col>work_year</th><th scope=col>experience_level</th><th scope=col>employment_type</th><th scope=col>job_title</th><th scope=col>salary</th><th scope=col>salary_currency</th><th scope=col>salary_in_usd</th><th scope=col>employee_residence</th><th scope=col>remote_ratio</th><th scope=col>company_location</th><th scope=col>company_size</th></tr>\n",
       "\t<tr><th scope=col>&lt;dbl&gt;</th><th scope=col>&lt;dbl&gt;</th><th scope=col>&lt;chr&gt;</th><th scope=col>&lt;chr&gt;</th><th scope=col>&lt;chr&gt;</th><th scope=col>&lt;dbl&gt;</th><th scope=col>&lt;chr&gt;</th><th scope=col>&lt;dbl&gt;</th><th scope=col>&lt;fct&gt;</th><th scope=col>&lt;dbl&gt;</th><th scope=col>&lt;chr&gt;</th><th scope=col>&lt;chr&gt;</th></tr>\n",
       "</thead>\n",
       "<tbody>\n",
       "\t<tr><td>0</td><td>2020</td><td>MI</td><td>FT</td><td>Data Scientist            </td><td> 70000</td><td>EUR</td><td> 79833</td><td>DE</td><td>  0</td><td>DE</td><td>L</td></tr>\n",
       "\t<tr><td>1</td><td>2020</td><td>SE</td><td>FT</td><td>Machine Learning Scientist</td><td>260000</td><td>USD</td><td>260000</td><td>JP</td><td>  0</td><td>JP</td><td>S</td></tr>\n",
       "\t<tr><td>2</td><td>2020</td><td>SE</td><td>FT</td><td>Big Data Engineer         </td><td> 85000</td><td>GBP</td><td>109024</td><td>GB</td><td> 50</td><td>GB</td><td>M</td></tr>\n",
       "\t<tr><td>3</td><td>2020</td><td>MI</td><td>FT</td><td>Product Data Analyst      </td><td> 20000</td><td>USD</td><td> 20000</td><td>HN</td><td>  0</td><td>HN</td><td>S</td></tr>\n",
       "\t<tr><td>4</td><td>2020</td><td>SE</td><td>FT</td><td>Machine Learning Engineer </td><td>150000</td><td>USD</td><td>150000</td><td>US</td><td> 50</td><td>US</td><td>L</td></tr>\n",
       "\t<tr><td>5</td><td>2020</td><td>EN</td><td>FT</td><td>Data Analyst              </td><td> 72000</td><td>USD</td><td> 72000</td><td>US</td><td>100</td><td>US</td><td>L</td></tr>\n",
       "</tbody>\n",
       "</table>\n"
      ],
      "text/latex": [
       "A tibble: 6 × 12\n",
       "\\begin{tabular}{llllllllllll}\n",
       " id & work\\_year & experience\\_level & employment\\_type & job\\_title & salary & salary\\_currency & salary\\_in\\_usd & employee\\_residence & remote\\_ratio & company\\_location & company\\_size\\\\\n",
       " <dbl> & <dbl> & <chr> & <chr> & <chr> & <dbl> & <chr> & <dbl> & <fct> & <dbl> & <chr> & <chr>\\\\\n",
       "\\hline\n",
       "\t 0 & 2020 & MI & FT & Data Scientist             &  70000 & EUR &  79833 & DE &   0 & DE & L\\\\\n",
       "\t 1 & 2020 & SE & FT & Machine Learning Scientist & 260000 & USD & 260000 & JP &   0 & JP & S\\\\\n",
       "\t 2 & 2020 & SE & FT & Big Data Engineer          &  85000 & GBP & 109024 & GB &  50 & GB & M\\\\\n",
       "\t 3 & 2020 & MI & FT & Product Data Analyst       &  20000 & USD &  20000 & HN &   0 & HN & S\\\\\n",
       "\t 4 & 2020 & SE & FT & Machine Learning Engineer  & 150000 & USD & 150000 & US &  50 & US & L\\\\\n",
       "\t 5 & 2020 & EN & FT & Data Analyst               &  72000 & USD &  72000 & US & 100 & US & L\\\\\n",
       "\\end{tabular}\n"
      ],
      "text/markdown": [
       "\n",
       "A tibble: 6 × 12\n",
       "\n",
       "| id &lt;dbl&gt; | work_year &lt;dbl&gt; | experience_level &lt;chr&gt; | employment_type &lt;chr&gt; | job_title &lt;chr&gt; | salary &lt;dbl&gt; | salary_currency &lt;chr&gt; | salary_in_usd &lt;dbl&gt; | employee_residence &lt;fct&gt; | remote_ratio &lt;dbl&gt; | company_location &lt;chr&gt; | company_size &lt;chr&gt; |\n",
       "|---|---|---|---|---|---|---|---|---|---|---|---|\n",
       "| 0 | 2020 | MI | FT | Data Scientist             |  70000 | EUR |  79833 | DE |   0 | DE | L |\n",
       "| 1 | 2020 | SE | FT | Machine Learning Scientist | 260000 | USD | 260000 | JP |   0 | JP | S |\n",
       "| 2 | 2020 | SE | FT | Big Data Engineer          |  85000 | GBP | 109024 | GB |  50 | GB | M |\n",
       "| 3 | 2020 | MI | FT | Product Data Analyst       |  20000 | USD |  20000 | HN |   0 | HN | S |\n",
       "| 4 | 2020 | SE | FT | Machine Learning Engineer  | 150000 | USD | 150000 | US |  50 | US | L |\n",
       "| 5 | 2020 | EN | FT | Data Analyst               |  72000 | USD |  72000 | US | 100 | US | L |\n",
       "\n"
      ],
      "text/plain": [
       "  id work_year experience_level employment_type job_title                 \n",
       "1 0  2020      MI               FT              Data Scientist            \n",
       "2 1  2020      SE               FT              Machine Learning Scientist\n",
       "3 2  2020      SE               FT              Big Data Engineer         \n",
       "4 3  2020      MI               FT              Product Data Analyst      \n",
       "5 4  2020      SE               FT              Machine Learning Engineer \n",
       "6 5  2020      EN               FT              Data Analyst              \n",
       "  salary salary_currency salary_in_usd employee_residence remote_ratio\n",
       "1  70000 EUR              79833        DE                   0         \n",
       "2 260000 USD             260000        JP                   0         \n",
       "3  85000 GBP             109024        GB                  50         \n",
       "4  20000 USD              20000        HN                   0         \n",
       "5 150000 USD             150000        US                  50         \n",
       "6  72000 USD              72000        US                 100         \n",
       "  company_location company_size\n",
       "1 DE               L           \n",
       "2 JP               S           \n",
       "3 GB               M           \n",
       "4 HN               S           \n",
       "5 US               L           \n",
       "6 US               L           "
      ]
     },
     "metadata": {},
     "output_type": "display_data"
    }
   ],
   "source": [
    "slice(ds_salaries, 1:6)"
   ]
  },
  {
   "cell_type": "code",
   "execution_count": 27,
   "id": "d818d1f9-fa82-4b88-91ef-90f5e1559335",
   "metadata": {},
   "outputs": [],
   "source": [
    "en_data <- filter(ds_salaries, experience_level == \"EN\")"
   ]
  },
  {
   "cell_type": "code",
   "execution_count": null,
   "id": "1e6ae4cf-2352-4334-81ed-9544f2f4ec4e",
   "metadata": {},
   "outputs": [],
   "source": [
    "mi_data <- filter(ds_salaries, experience_level == \"MI\")"
   ]
  },
  {
   "cell_type": "code",
   "execution_count": 28,
   "id": "834b0862-5357-4148-ad49-ec2a07ecf09d",
   "metadata": {},
   "outputs": [],
   "source": [
    "se_data <- filter(ds_salaries, experience_level == \"SE\")"
   ]
  },
  {
   "cell_type": "code",
   "execution_count": 38,
   "id": "c8b59ca8-afca-499e-b996-06f857ec6ea5",
   "metadata": {},
   "outputs": [],
   "source": [
    "en_split <- initial_split(ds_salaries, prop = 0.75, strata = employee_residence)  \n",
    "en_train <- training(en_split)   \n",
    "en_test <- testing(en_split)"
   ]
  },
  {
   "cell_type": "code",
   "execution_count": 39,
   "id": "06bbe898-de1a-4eaa-b24c-c7bc9c801f90",
   "metadata": {},
   "outputs": [],
   "source": [
    "mi_split <- initial_split(ds_salaries, prop = 0.75, strata = employee_residence)  \n",
    "mi_train <- training(en_split)   \n",
    "mi_test <- testing(en_split)"
   ]
  },
  {
   "cell_type": "code",
   "execution_count": 36,
   "id": "9feb0ef2-7b21-4886-b005-c4f64efe4526",
   "metadata": {},
   "outputs": [],
   "source": [
    "se_split <- initial_split(ds_salaries, prop = 0.75, strata = employee_residence)  \n",
    "se_train <- training(en_split)   \n",
    "se_test <- testing(en_split)"
   ]
  },
  {
   "cell_type": "markdown",
   "id": "bf401f01-c4b7-49a3-a559-8db5678de7e9",
   "metadata": {},
   "source": [
    "Methods:\n",
    "\n",
    "We will be using the data columns, experience level, monthly salary, employee residency, and job title. From this, we will filter our data by experience level (entry (EN), middle (MI), and senior (SE)) to create three comparable data sets and produce three scatterplots to perform the K-nn algorithm accordingly. \n",
    "\n",
    "Describe at least one way that you will visualise the results:\n",
    "\r\n",
    "One way we will visualise the results is by using a bar plot to compare the average salary across different locations.he location?”\r\n"
   ]
  },
  {
   "cell_type": "markdown",
   "id": "5293af3a-8c20-4ee8-82ae-0430c6463ce3",
   "metadata": {},
   "source": [
    "Expected outcomes and significance:\n",
    "\n",
    "What do you expect to find?\n",
    "\n",
    "We expect to find that the US offers the highest mean salary for data scientists due to the high number of tech successful start-ups and blue-chip companies based there, such as Apple, Amazon, and Microsoft.\n",
    "\n",
    "What impact could such findings have?\n",
    "\n",
    "By showing the trends of salary distribution among different locations, our findings could lead to a shift in the residing location of individuals going into the data science industry.  \n",
    "\n",
    "What future questions could this lead to?\n",
    "\n",
    "As a result of our data exploration, future questions could arise concerning factors beyond what is included in the variables of this data set, such as, “How is salary based on cost of living?”, or “How does access to education and resources affect salary?”, as well as more questions based on what is available in the dataset, such as “Is salary for the same job dependent on the location?”"
   ]
  }
 ],
 "metadata": {
  "kernelspec": {
   "display_name": "R",
   "language": "R",
   "name": "ir"
  },
  "language_info": {
   "codemirror_mode": "r",
   "file_extension": ".r",
   "mimetype": "text/x-r-source",
   "name": "R",
   "pygments_lexer": "r",
   "version": "4.3.1"
  }
 },
 "nbformat": 4,
 "nbformat_minor": 5
}
